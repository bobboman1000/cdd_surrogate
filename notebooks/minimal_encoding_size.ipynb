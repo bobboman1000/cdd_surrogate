{
 "cells": [
  {
   "cell_type": "code",
   "execution_count": 1,
   "metadata": {
    "collapsed": true,
    "pycharm": {
     "name": "#%%\n"
    }
   },
   "outputs": [],
   "source": [
    "import pandas as pd\n",
    "import pytorch_lightning as pl\n",
    "import seaborn as sns\n",
    "import matplotlib.pyplot as plt\n",
    "from fccd.data.modules import CDDDataModule\n",
    "\n",
    "from fccd.data.datasets import TabularDataset\n",
    "from fccd.util import plot_prediction_vs_truth, find_lr, plot_prediction_vs_truth_sklearn, limit_psd\n",
    "\n",
    "from fccd.util import collect_dataloader\n",
    "%load_ext autoreload\n",
    "%autoreload 2"
   ]
  },
  {
   "cell_type": "markdown",
   "metadata": {
    "collapsed": false,
    "pycharm": {
     "name": "#%% md\n"
    }
   },
   "source": [
    "# Analyzing the minimal encoding size\n",
    "Analyzing the minimal encoding size for the hidden state of a LSTM with parameters encoded in its Hidden State.\n",
    "\n",
    "We analyze the information content of the parameters using PCA."
   ]
  },
  {
   "cell_type": "markdown",
   "metadata": {
    "collapsed": false,
    "pycharm": {
     "name": "#%% md\n"
    }
   },
   "source": [
    "### Load data"
   ]
  },
  {
   "cell_type": "code",
   "execution_count": 2,
   "metadata": {
    "collapsed": false,
    "pycharm": {
     "name": "#%%\n"
    }
   },
   "outputs": [],
   "source": [
    "data_125 = pd.read_csv(\"../data/processed/cu_125.csv\", index_col=0)\n",
    "data_1000 = pd.read_csv(\"../data/processed/cu_1000.csv\", index_col=0)\n",
    "\n",
    "data = pd.concat([data_125, data_1000])\n",
    "data = data.reset_index(drop=True)\n",
    "\n",
    "data[\"stress\"] = data[\"stress\"] * 1000\n",
    "data[\"psd\"] = data[\"psd\"] * 1000"
   ]
  },
  {
   "cell_type": "code",
   "execution_count": 3,
   "metadata": {
    "collapsed": false,
    "pycharm": {
     "name": "#%%\n"
    }
   },
   "outputs": [],
   "source": [
    "# Limit PSD to max(stress)\n",
    "split_data = limit_psd(data)"
   ]
  },
  {
   "cell_type": "code",
   "execution_count": 4,
   "metadata": {
    "collapsed": false,
    "pycharm": {
     "name": "#%%\n"
    }
   },
   "outputs": [],
   "source": [
    "stress_dm = CDDDataModule(\n",
    "    split_data,\n",
    "    target=\"stress\",\n",
    "    psd=\"psd\",\n",
    "    group=\"id\",\n",
    "    drop_cols=[\"strain\", \"time_ns\", \"dislocation\"],\n",
    "    time=\"t\",\n",
    "    batch_size=200,\n",
    "    categoricals=[\"material\", \"euler_angles\"],\n",
    "    num_workers=4,\n",
    "    transform=MinMaxScaler,\n",
    "    split_dataset=True,\n",
    ")\n",
    "stress_dm.setup()"
   ]
  },
  {
   "cell_type": "markdown",
   "metadata": {
    "collapsed": false,
    "pycharm": {
     "name": "#%% md\n"
    }
   },
   "source": [
    "### Create Dataset from lightning datamodule"
   ]
  },
  {
   "cell_type": "code",
   "execution_count": 5,
   "metadata": {
    "collapsed": false,
    "pycharm": {
     "name": "#%%\n"
    }
   },
   "outputs": [],
   "source": [
    "train_data = stress_dm.train_dataset()\n",
    "val_data = stress_dm.val_dataset()\n",
    "test_data = stress_dm.test_dataset()"
   ]
  },
  {
   "cell_type": "code",
   "execution_count": 6,
   "metadata": {
    "collapsed": false,
    "pycharm": {
     "name": "#%%\n"
    }
   },
   "outputs": [],
   "source": [
    "psd_train_data = TabularDataset.from_cdd_dataset(train_data)\n",
    "psd_val_data = TabularDataset.from_cdd_dataset(val_data)\n",
    "psd_test_data = TabularDataset.from_cdd_dataset(test_data)"
   ]
  },
  {
   "cell_type": "code",
   "execution_count": 7,
   "metadata": {
    "collapsed": false,
    "pycharm": {
     "name": "#%%\n"
    }
   },
   "outputs": [],
   "source": [
    "x_train, y_train = psd_train_data.dataset\n",
    "x_val, y_val = psd_train_data.dataset\n",
    "x_test, y_test = psd_train_data.dataset"
   ]
  },
  {
   "cell_type": "markdown",
   "metadata": {
    "collapsed": false,
    "pycharm": {
     "name": "#%% md\n"
    }
   },
   "source": [
    "### Conduct PCA"
   ]
  },
  {
   "cell_type": "code",
   "execution_count": 8,
   "metadata": {
    "collapsed": false,
    "pycharm": {
     "name": "#%%\n"
    }
   },
   "outputs": [
    {
     "data": {
      "text/plain": [
       "array([8.12669001e-01, 1.03855052e-01, 7.08747628e-02, 1.25177180e-02,\n",
       "       5.69375130e-05])"
      ]
     },
     "execution_count": 8,
     "metadata": {},
     "output_type": "execute_result"
    }
   ],
   "source": [
    "from sklearn.decomposition import PCA\n",
    "\n",
    "pca = PCA(10)\n",
    "pca.fit(x_train)\n",
    "\n",
    "pca.explained_variance_ratio_[0:5]"
   ]
  },
  {
   "cell_type": "markdown",
   "metadata": {
    "collapsed": false,
    "pycharm": {
     "name": "#%% md\n"
    }
   },
   "source": [
    "We can observe that a single component describes over 80% of all variation in the data. The second covers 10%, the third 0.7%.\n",
    "\n",
    "The next big leap in explained variance is from the 4th to the 5th component. The 5th component explains less than 0.001%. We therefore can conclude that it might make sense to use a minimal layer size of 4 in an encoding model.\n"
   ]
  }
 ],
 "metadata": {
  "kernelspec": {
   "display_name": "dev",
   "language": "python",
   "name": "python3"
  },
  "language_info": {
   "codemirror_mode": {
    "name": "ipython",
    "version": 2
   },
   "file_extension": ".py",
   "mimetype": "text/x-python",
   "name": "python",
   "nbconvert_exporter": "python",
   "pygments_lexer": "ipython2",
   "version": "3.10.8 (main, Oct 13 2022, 09:48:40) [Clang 14.0.0 (clang-1400.0.29.102)]"
  },
  "vscode": {
   "interpreter": {
    "hash": "b9b62b7a9ac584c2fba11230ff8573e43de2f5694f1d7b472c0f899f2dd6b994"
   }
  }
 },
 "nbformat": 4,
 "nbformat_minor": 0
}
